{
 "cells": [
  {
   "cell_type": "markdown",
   "metadata": {},
   "source": [
    "# CSC 6621 Final Project - Using Graph Machine Learning Techniques to Identify Twitter Bots\n",
    "Tyler Gibson, Anthony Reis, and Kaden Young | 5/7/2024 | CSC 6621\n",
    "\n",
    "## Imports"
   ]
  },
  {
   "cell_type": "code",
   "execution_count": 1,
   "metadata": {},
   "outputs": [],
   "source": [
    "import pandas as pd\n",
    "import matplotlib.pyplot as plt\n",
    "import numpy as np"
   ]
  },
  {
   "cell_type": "markdown",
   "metadata": {},
   "source": [
    "## Load Data"
   ]
  },
  {
   "cell_type": "code",
   "execution_count": 3,
   "metadata": {},
   "outputs": [
    {
     "data": {
      "text/html": [
       "<div>\n",
       "<style scoped>\n",
       "    .dataframe tbody tr th:only-of-type {\n",
       "        vertical-align: middle;\n",
       "    }\n",
       "\n",
       "    .dataframe tbody tr th {\n",
       "        vertical-align: top;\n",
       "    }\n",
       "\n",
       "    .dataframe thead th {\n",
       "        text-align: right;\n",
       "    }\n",
       "</style>\n",
       "<table border=\"1\" class=\"dataframe\">\n",
       "  <thead>\n",
       "    <tr style=\"text-align: right;\">\n",
       "      <th></th>\n",
       "      <th>User ID</th>\n",
       "      <th>Username</th>\n",
       "      <th>Tweet</th>\n",
       "      <th>Retweet Count</th>\n",
       "      <th>Mention Count</th>\n",
       "      <th>Follower Count</th>\n",
       "      <th>Verified</th>\n",
       "      <th>Bot Label</th>\n",
       "      <th>Location</th>\n",
       "      <th>Created At</th>\n",
       "      <th>Hashtags</th>\n",
       "    </tr>\n",
       "  </thead>\n",
       "  <tbody>\n",
       "    <tr>\n",
       "      <th>0</th>\n",
       "      <td>132131</td>\n",
       "      <td>flong</td>\n",
       "      <td>Station activity person against natural majori...</td>\n",
       "      <td>85</td>\n",
       "      <td>1</td>\n",
       "      <td>2353</td>\n",
       "      <td>False</td>\n",
       "      <td>1</td>\n",
       "      <td>Adkinston</td>\n",
       "      <td>2020-05-11 15:29:50</td>\n",
       "      <td>NaN</td>\n",
       "    </tr>\n",
       "    <tr>\n",
       "      <th>1</th>\n",
       "      <td>289683</td>\n",
       "      <td>hinesstephanie</td>\n",
       "      <td>Authority research natural life material staff...</td>\n",
       "      <td>55</td>\n",
       "      <td>5</td>\n",
       "      <td>9617</td>\n",
       "      <td>True</td>\n",
       "      <td>0</td>\n",
       "      <td>Sanderston</td>\n",
       "      <td>2022-11-26 05:18:10</td>\n",
       "      <td>both live</td>\n",
       "    </tr>\n",
       "    <tr>\n",
       "      <th>2</th>\n",
       "      <td>779715</td>\n",
       "      <td>roberttran</td>\n",
       "      <td>Manage whose quickly especially foot none to g...</td>\n",
       "      <td>6</td>\n",
       "      <td>2</td>\n",
       "      <td>4363</td>\n",
       "      <td>True</td>\n",
       "      <td>0</td>\n",
       "      <td>Harrisonfurt</td>\n",
       "      <td>2022-08-08 03:16:54</td>\n",
       "      <td>phone ahead</td>\n",
       "    </tr>\n",
       "    <tr>\n",
       "      <th>3</th>\n",
       "      <td>696168</td>\n",
       "      <td>pmason</td>\n",
       "      <td>Just cover eight opportunity strong policy which.</td>\n",
       "      <td>54</td>\n",
       "      <td>5</td>\n",
       "      <td>2242</td>\n",
       "      <td>True</td>\n",
       "      <td>1</td>\n",
       "      <td>Martinezberg</td>\n",
       "      <td>2021-08-14 22:27:05</td>\n",
       "      <td>ever quickly new I</td>\n",
       "    </tr>\n",
       "    <tr>\n",
       "      <th>4</th>\n",
       "      <td>704441</td>\n",
       "      <td>noah87</td>\n",
       "      <td>Animal sign six data good or.</td>\n",
       "      <td>26</td>\n",
       "      <td>3</td>\n",
       "      <td>8438</td>\n",
       "      <td>False</td>\n",
       "      <td>1</td>\n",
       "      <td>Camachoville</td>\n",
       "      <td>2020-04-13 21:24:21</td>\n",
       "      <td>foreign mention</td>\n",
       "    </tr>\n",
       "    <tr>\n",
       "      <th>...</th>\n",
       "      <td>...</td>\n",
       "      <td>...</td>\n",
       "      <td>...</td>\n",
       "      <td>...</td>\n",
       "      <td>...</td>\n",
       "      <td>...</td>\n",
       "      <td>...</td>\n",
       "      <td>...</td>\n",
       "      <td>...</td>\n",
       "      <td>...</td>\n",
       "      <td>...</td>\n",
       "    </tr>\n",
       "    <tr>\n",
       "      <th>49995</th>\n",
       "      <td>491196</td>\n",
       "      <td>uberg</td>\n",
       "      <td>Want but put card direction know miss former h...</td>\n",
       "      <td>64</td>\n",
       "      <td>0</td>\n",
       "      <td>9911</td>\n",
       "      <td>True</td>\n",
       "      <td>1</td>\n",
       "      <td>Lake Kimberlyburgh</td>\n",
       "      <td>2023-04-20 11:06:26</td>\n",
       "      <td>teach quality ten education any</td>\n",
       "    </tr>\n",
       "    <tr>\n",
       "      <th>49996</th>\n",
       "      <td>739297</td>\n",
       "      <td>jessicamunoz</td>\n",
       "      <td>Provide whole maybe agree church respond most ...</td>\n",
       "      <td>18</td>\n",
       "      <td>5</td>\n",
       "      <td>9900</td>\n",
       "      <td>False</td>\n",
       "      <td>1</td>\n",
       "      <td>Greenbury</td>\n",
       "      <td>2022-10-18 03:57:35</td>\n",
       "      <td>add walk among believe</td>\n",
       "    </tr>\n",
       "    <tr>\n",
       "      <th>49997</th>\n",
       "      <td>674475</td>\n",
       "      <td>lynncunningham</td>\n",
       "      <td>Bring different everyone international capital...</td>\n",
       "      <td>43</td>\n",
       "      <td>3</td>\n",
       "      <td>6313</td>\n",
       "      <td>True</td>\n",
       "      <td>1</td>\n",
       "      <td>Deborahfort</td>\n",
       "      <td>2020-07-08 03:54:08</td>\n",
       "      <td>onto admit artist first</td>\n",
       "    </tr>\n",
       "    <tr>\n",
       "      <th>49998</th>\n",
       "      <td>167081</td>\n",
       "      <td>richardthompson</td>\n",
       "      <td>Than about single generation itself seek sell ...</td>\n",
       "      <td>45</td>\n",
       "      <td>1</td>\n",
       "      <td>6343</td>\n",
       "      <td>False</td>\n",
       "      <td>0</td>\n",
       "      <td>Stephenside</td>\n",
       "      <td>2022-03-22 12:13:44</td>\n",
       "      <td>star</td>\n",
       "    </tr>\n",
       "    <tr>\n",
       "      <th>49999</th>\n",
       "      <td>311204</td>\n",
       "      <td>daniel29</td>\n",
       "      <td>Here morning class various room human true bec...</td>\n",
       "      <td>91</td>\n",
       "      <td>4</td>\n",
       "      <td>4006</td>\n",
       "      <td>False</td>\n",
       "      <td>0</td>\n",
       "      <td>Novakberg</td>\n",
       "      <td>2022-12-03 06:11:07</td>\n",
       "      <td>home</td>\n",
       "    </tr>\n",
       "  </tbody>\n",
       "</table>\n",
       "<p>50000 rows × 11 columns</p>\n",
       "</div>"
      ],
      "text/plain": [
       "       User ID         Username  \\\n",
       "0       132131            flong   \n",
       "1       289683   hinesstephanie   \n",
       "2       779715       roberttran   \n",
       "3       696168           pmason   \n",
       "4       704441           noah87   \n",
       "...        ...              ...   \n",
       "49995   491196            uberg   \n",
       "49996   739297     jessicamunoz   \n",
       "49997   674475   lynncunningham   \n",
       "49998   167081  richardthompson   \n",
       "49999   311204         daniel29   \n",
       "\n",
       "                                                   Tweet  Retweet Count  \\\n",
       "0      Station activity person against natural majori...             85   \n",
       "1      Authority research natural life material staff...             55   \n",
       "2      Manage whose quickly especially foot none to g...              6   \n",
       "3      Just cover eight opportunity strong policy which.             54   \n",
       "4                          Animal sign six data good or.             26   \n",
       "...                                                  ...            ...   \n",
       "49995  Want but put card direction know miss former h...             64   \n",
       "49996  Provide whole maybe agree church respond most ...             18   \n",
       "49997  Bring different everyone international capital...             43   \n",
       "49998  Than about single generation itself seek sell ...             45   \n",
       "49999  Here morning class various room human true bec...             91   \n",
       "\n",
       "       Mention Count  Follower Count  Verified  Bot Label            Location  \\\n",
       "0                  1            2353     False          1           Adkinston   \n",
       "1                  5            9617      True          0          Sanderston   \n",
       "2                  2            4363      True          0        Harrisonfurt   \n",
       "3                  5            2242      True          1        Martinezberg   \n",
       "4                  3            8438     False          1        Camachoville   \n",
       "...              ...             ...       ...        ...                 ...   \n",
       "49995              0            9911      True          1  Lake Kimberlyburgh   \n",
       "49996              5            9900     False          1           Greenbury   \n",
       "49997              3            6313      True          1         Deborahfort   \n",
       "49998              1            6343     False          0         Stephenside   \n",
       "49999              4            4006     False          0           Novakberg   \n",
       "\n",
       "                Created At                         Hashtags  \n",
       "0      2020-05-11 15:29:50                              NaN  \n",
       "1      2022-11-26 05:18:10                        both live  \n",
       "2      2022-08-08 03:16:54                      phone ahead  \n",
       "3      2021-08-14 22:27:05               ever quickly new I  \n",
       "4      2020-04-13 21:24:21                  foreign mention  \n",
       "...                    ...                              ...  \n",
       "49995  2023-04-20 11:06:26  teach quality ten education any  \n",
       "49996  2022-10-18 03:57:35           add walk among believe  \n",
       "49997  2020-07-08 03:54:08          onto admit artist first  \n",
       "49998  2022-03-22 12:13:44                             star  \n",
       "49999  2022-12-03 06:11:07                             home  \n",
       "\n",
       "[50000 rows x 11 columns]"
      ]
     },
     "execution_count": 3,
     "metadata": {},
     "output_type": "execute_result"
    }
   ],
   "source": [
    "df = pd.read_csv('data/bot_detection_data.csv')\n",
    "df"
   ]
  },
  {
   "cell_type": "markdown",
   "metadata": {},
   "source": [
    "## Exploratory Data Analysis"
   ]
  },
  {
   "cell_type": "code",
   "execution_count": null,
   "metadata": {},
   "outputs": [],
   "source": [
    "# TODO"
   ]
  },
  {
   "cell_type": "markdown",
   "metadata": {},
   "source": [
    "## Preprocess Data\n",
    "Clean data and perform feature engineering."
   ]
  },
  {
   "cell_type": "code",
   "execution_count": null,
   "metadata": {},
   "outputs": [],
   "source": [
    "# TODO"
   ]
  },
  {
   "cell_type": "markdown",
   "metadata": {},
   "source": [
    "## Divide Data into Training/Testing Sets"
   ]
  },
  {
   "cell_type": "code",
   "execution_count": null,
   "metadata": {},
   "outputs": [],
   "source": [
    "# TODO"
   ]
  },
  {
   "cell_type": "markdown",
   "metadata": {},
   "source": [
    "## Baseline Model"
   ]
  },
  {
   "cell_type": "code",
   "execution_count": null,
   "metadata": {},
   "outputs": [],
   "source": [
    "# TODO"
   ]
  },
  {
   "cell_type": "markdown",
   "metadata": {},
   "source": [
    "## Experiments"
   ]
  },
  {
   "cell_type": "code",
   "execution_count": null,
   "metadata": {},
   "outputs": [],
   "source": [
    "# TODO"
   ]
  },
  {
   "cell_type": "markdown",
   "metadata": {},
   "source": [
    "## Results"
   ]
  },
  {
   "cell_type": "code",
   "execution_count": null,
   "metadata": {},
   "outputs": [],
   "source": [
    "# TODO"
   ]
  }
 ],
 "metadata": {
  "kernelspec": {
   "display_name": "ser",
   "language": "python",
   "name": "python3"
  },
  "language_info": {
   "codemirror_mode": {
    "name": "ipython",
    "version": 3
   },
   "file_extension": ".py",
   "mimetype": "text/x-python",
   "name": "python",
   "nbconvert_exporter": "python",
   "pygments_lexer": "ipython3",
   "version": "3.9.18"
  }
 },
 "nbformat": 4,
 "nbformat_minor": 2
}
